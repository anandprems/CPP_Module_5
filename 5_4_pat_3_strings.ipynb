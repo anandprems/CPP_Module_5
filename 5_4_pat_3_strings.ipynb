{
  "nbformat": 4,
  "nbformat_minor": 0,
  "metadata": {
    "colab": {
      "provenance": []
    },
    "kernelspec": {
      "name": "python3",
      "display_name": "Python 3"
    },
    "language_info": {
      "name": "python"
    }
  },
  "cells": [
    {
      "cell_type": "code",
      "execution_count": null,
      "metadata": {
        "colab": {
          "base_uri": "https://localhost:8080/"
        },
        "id": "w12PLj10mvRC",
        "outputId": "f3074659-f283-47d2-ee9a-ae5ebc70e26e"
      },
      "outputs": [
        {
          "output_type": "stream",
          "name": "stdout",
          "text": [
            "Enter the word to check the condition:khokho\n",
            "khokho string is symmertical\n",
            "khokho string is not palindrome\n",
            "Enter the string1 for rotational condition:python\n",
            "Enter the string2 for rotational condition:thonyp\n",
            "The original string 1 is : python\n",
            "The original string 2 is : thonyp\n",
            "Are two strings Rotationally equal ? : False\n"
          ]
        }
      ],
      "source": [
        "string = input('Enter the word to check the condition:')\n",
        "half = int(len(string) / 2)\n",
        " \n",
        "if len(string) % 2 == 0:  # even\n",
        "    first_str = string[:half]\n",
        "    second_str = string[half:]\n",
        "else:  # odd\n",
        "    first_str = string[:half]\n",
        "    second_str = string[half+1:]\n",
        " \n",
        "# symmetric\n",
        "if first_str == second_str:\n",
        "    print(string, 'string is symmertical')\n",
        "else:\n",
        "    print(string, 'string is not symmertical')\n",
        " \n",
        "# palindrome\n",
        "if first_str == second_str[::-1]:  # ''.join(reversed(second_str)) [slower]\n",
        "    print(string, 'string is palindrome')\n",
        "else:\n",
        "    print(string, 'string is not palindrome')\n",
        "\n",
        "\n",
        "# initializing strings\n",
        "test_str1 = input('Enter the string1 for rotational condition:')\n",
        "test_str2 = input('Enter the string2 for rotational condition:')\n",
        " \n",
        "# printing original strings\n",
        "print(\"The original string 1 is : \" + str(test_str1))\n",
        "print(\"The original string 2 is : \" + str(test_str2))\n",
        "\n",
        "# Check if two strings are Rotationally Equivalent\n",
        "# Using loop + string slicing\n",
        "res = False\n",
        "for idx in range(len(test_str1)):\n",
        "        if test_str1[idx: ] + test_str1[ :idx] == test_str2:\n",
        "            res = True\n",
        "            break\n",
        " \n",
        "# printing result\n",
        "print(\"Are two strings Rotationally equal ? : \" + str(res))"
      ]
    },
    {
      "cell_type": "code",
      "source": [],
      "metadata": {
        "id": "gMzIKwrkr8lN"
      },
      "execution_count": null,
      "outputs": []
    }
  ]
}