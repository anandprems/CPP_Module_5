{
  "nbformat": 4,
  "nbformat_minor": 0,
  "metadata": {
    "colab": {
      "provenance": []
    },
    "kernelspec": {
      "name": "python3",
      "display_name": "Python 3"
    },
    "language_info": {
      "name": "python"
    }
  },
  "cells": [
    {
      "cell_type": "code",
      "execution_count": null,
      "metadata": {
        "id": "Kz4eTs2GmYqT"
      },
      "outputs": [],
      "source": [
        "#importing libraries\n",
        "import re"
      ]
    },
    {
      "cell_type": "code",
      "source": [
        "#sample string\n",
        "sample_string = '123ABC456abc123ABCweird'\n",
        "print(sample_string)\n",
        "print(len(sample_string))\n",
        "print(type(sample_string))"
      ],
      "metadata": {
        "colab": {
          "base_uri": "https://localhost:8080/"
        },
        "id": "0J94DA3WPvEh",
        "outputId": "fee5aa05-db1c-4716-f851-9a2c7e706a73"
      },
      "execution_count": null,
      "outputs": [
        {
          "output_type": "stream",
          "name": "stdout",
          "text": [
            "123ABC456abc123ABCweird\n",
            "23\n",
            "<class 'str'>\n"
          ]
        }
      ]
    },
    {
      "cell_type": "markdown",
      "source": [
        "#finditer method"
      ],
      "metadata": {
        "id": "4U8YB7kmQnZl"
      }
    },
    {
      "cell_type": "code",
      "source": [
        "finditer_ = re.finditer(r'123', sample_string)\n",
        "for find_ in finditer_:\n",
        "  print(find_)"
      ],
      "metadata": {
        "colab": {
          "base_uri": "https://localhost:8080/"
        },
        "id": "hdPyau-rQBdu",
        "outputId": "b13faf22-48e5-47a7-eaaa-b4b574ca8170"
      },
      "execution_count": null,
      "outputs": [
        {
          "output_type": "stream",
          "name": "stdout",
          "text": [
            "<re.Match object; span=(0, 3), match='123'>\n",
            "<re.Match object; span=(12, 15), match='123'>\n"
          ]
        }
      ]
    },
    {
      "cell_type": "code",
      "source": [
        "finditer1_ = re.finditer(r'ABC', sample_string)\n",
        "for find1_ in finditer1_:\n",
        "  print(find1_)"
      ],
      "metadata": {
        "colab": {
          "base_uri": "https://localhost:8080/"
        },
        "id": "eRJmLuTdQ_Q4",
        "outputId": "326999bf-c84c-410a-cd4d-d948d8cd5714"
      },
      "execution_count": null,
      "outputs": [
        {
          "output_type": "stream",
          "name": "stdout",
          "text": [
            "<re.Match object; span=(3, 6), match='ABC'>\n",
            "<re.Match object; span=(15, 18), match='ABC'>\n"
          ]
        }
      ]
    },
    {
      "cell_type": "markdown",
      "source": [
        "#findall method"
      ],
      "metadata": {
        "id": "MV5p4tCeRnwb"
      }
    },
    {
      "cell_type": "code",
      "source": [
        "findall_ = re.findall(r'ABC', sample_string)\n",
        "for finda in findall_:\n",
        "  print(finda)"
      ],
      "metadata": {
        "colab": {
          "base_uri": "https://localhost:8080/"
        },
        "id": "vFXJKiv4Rfqa",
        "outputId": "c9e6f342-dbb2-457b-fb19-d3d8569af89f"
      },
      "execution_count": null,
      "outputs": [
        {
          "output_type": "stream",
          "name": "stdout",
          "text": [
            "ABC\n",
            "ABC\n"
          ]
        }
      ]
    },
    {
      "cell_type": "code",
      "source": [
        "findall1_ = re.findall(r'012', sample_string)\n",
        "for finda1 in findall1_:\n",
        "  print(finda1)"
      ],
      "metadata": {
        "id": "_5QoJ1HsR_ae"
      },
      "execution_count": null,
      "outputs": []
    },
    {
      "cell_type": "markdown",
      "source": [
        "#match method"
      ],
      "metadata": {
        "id": "hHlRDkeeScbb"
      }
    },
    {
      "cell_type": "code",
      "source": [
        "match_ = re.match(r'123', sample_string)\n",
        "print(match_)"
      ],
      "metadata": {
        "colab": {
          "base_uri": "https://localhost:8080/"
        },
        "id": "16scaRTiSZCJ",
        "outputId": "680a7d8a-f946-4d96-9d07-4553f790751c"
      },
      "execution_count": null,
      "outputs": [
        {
          "output_type": "stream",
          "name": "stdout",
          "text": [
            "<re.Match object; span=(0, 3), match='123'>\n"
          ]
        }
      ]
    },
    {
      "cell_type": "code",
      "source": [
        "match1_ = re.match(r'ABC', sample_string)\n",
        "print(match1_)"
      ],
      "metadata": {
        "colab": {
          "base_uri": "https://localhost:8080/"
        },
        "id": "krnI8jJ3StRx",
        "outputId": "d04536c1-0874-4de5-daed-68abc81e50dc"
      },
      "execution_count": null,
      "outputs": [
        {
          "output_type": "stream",
          "name": "stdout",
          "text": [
            "None\n"
          ]
        }
      ]
    },
    {
      "cell_type": "markdown",
      "source": [
        "#search method"
      ],
      "metadata": {
        "id": "oYvg47RCTBZC"
      }
    },
    {
      "cell_type": "code",
      "source": [
        "search_ = re.search(r'weird', sample_string)\n",
        "print(search_)"
      ],
      "metadata": {
        "colab": {
          "base_uri": "https://localhost:8080/"
        },
        "id": "VkDz-1nmSxmJ",
        "outputId": "c459d84b-0f45-4b55-b0bd-5272bb62ae20"
      },
      "execution_count": null,
      "outputs": [
        {
          "output_type": "stream",
          "name": "stdout",
          "text": [
            "<re.Match object; span=(18, 23), match='weird'>\n"
          ]
        }
      ]
    },
    {
      "cell_type": "code",
      "source": [
        "search1_ = re.search(r'weirdABC', sample_string)\n",
        "print(search1_)"
      ],
      "metadata": {
        "colab": {
          "base_uri": "https://localhost:8080/"
        },
        "id": "62FvdIemTRe-",
        "outputId": "4fed265c-c707-455d-ec4d-49a3fe4b4d80"
      },
      "execution_count": null,
      "outputs": [
        {
          "output_type": "stream",
          "name": "stdout",
          "text": [
            "None\n"
          ]
        }
      ]
    },
    {
      "cell_type": "markdown",
      "source": [],
      "metadata": {
        "id": "Qdxc8CDHTSZv"
      }
    }
  ]
}