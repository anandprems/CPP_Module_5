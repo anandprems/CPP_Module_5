{
  "nbformat": 4,
  "nbformat_minor": 0,
  "metadata": {
    "colab": {
      "provenance": []
    },
    "kernelspec": {
      "name": "python3",
      "display_name": "Python 3"
    },
    "language_info": {
      "name": "python"
    }
  },
  "cells": [
    {
      "cell_type": "code",
      "execution_count": 10,
      "metadata": {
        "id": "Kz4eTs2GmYqT"
      },
      "outputs": [],
      "source": [
        "#importing libraries\n",
        "import re"
      ]
    },
    {
      "cell_type": "code",
      "source": [
        "#sample string\n",
        "sample_string = '!123ABCde.g456ab$%^&*c123ABCweird'\n",
        "print(sample_string)\n",
        "print(len(sample_string))\n",
        "print(type(sample_string))"
      ],
      "metadata": {
        "colab": {
          "base_uri": "https://localhost:8080/"
        },
        "id": "0J94DA3WPvEh",
        "outputId": "351c9ad4-5030-49d1-9a51-651fee9de56f"
      },
      "execution_count": 27,
      "outputs": [
        {
          "output_type": "stream",
          "name": "stdout",
          "text": [
            "!123ABCde.g456ab$%^&*c123ABCweird\n",
            "33\n",
            "<class 'str'>\n"
          ]
        }
      ]
    },
    {
      "cell_type": "markdown",
      "source": [
        "#finditer method"
      ],
      "metadata": {
        "id": "4U8YB7kmQnZl"
      }
    },
    {
      "cell_type": "code",
      "source": [
        "finditer_ = re.finditer(r'123', sample_string)\n",
        "for find_ in finditer_:\n",
        "  print(find_)"
      ],
      "metadata": {
        "colab": {
          "base_uri": "https://localhost:8080/"
        },
        "id": "hdPyau-rQBdu",
        "outputId": "cccd930d-dbf5-4848-c44e-b7612a424044"
      },
      "execution_count": 28,
      "outputs": [
        {
          "output_type": "stream",
          "name": "stdout",
          "text": [
            "<re.Match object; span=(1, 4), match='123'>\n",
            "<re.Match object; span=(22, 25), match='123'>\n"
          ]
        }
      ]
    },
    {
      "cell_type": "code",
      "source": [
        "finditer1_ = re.finditer(r'ABC', sample_string)\n",
        "for find1_ in finditer1_:\n",
        "  print(find1_)"
      ],
      "metadata": {
        "colab": {
          "base_uri": "https://localhost:8080/"
        },
        "id": "eRJmLuTdQ_Q4",
        "outputId": "62c17729-2723-4dc2-e017-b7957b61d41c"
      },
      "execution_count": 29,
      "outputs": [
        {
          "output_type": "stream",
          "name": "stdout",
          "text": [
            "<re.Match object; span=(4, 7), match='ABC'>\n",
            "<re.Match object; span=(25, 28), match='ABC'>\n"
          ]
        }
      ]
    },
    {
      "cell_type": "markdown",
      "source": [
        "#findall method"
      ],
      "metadata": {
        "id": "MV5p4tCeRnwb"
      }
    },
    {
      "cell_type": "code",
      "source": [
        "findall_ = re.findall(r'ABC', sample_string)\n",
        "for finda in findall_:\n",
        "  print(finda)"
      ],
      "metadata": {
        "colab": {
          "base_uri": "https://localhost:8080/"
        },
        "id": "vFXJKiv4Rfqa",
        "outputId": "6cc13f79-ab55-4ea4-b261-3b33d19013d4"
      },
      "execution_count": 30,
      "outputs": [
        {
          "output_type": "stream",
          "name": "stdout",
          "text": [
            "ABC\n",
            "ABC\n"
          ]
        }
      ]
    },
    {
      "cell_type": "code",
      "source": [
        "findall1_ = re.findall(r'012', sample_string)\n",
        "for finda1 in findall1_:\n",
        "  print(finda1)"
      ],
      "metadata": {
        "id": "_5QoJ1HsR_ae"
      },
      "execution_count": 31,
      "outputs": []
    },
    {
      "cell_type": "markdown",
      "source": [
        "#match method"
      ],
      "metadata": {
        "id": "hHlRDkeeScbb"
      }
    },
    {
      "cell_type": "code",
      "source": [
        "#first segment - first match at the beginning of string\n",
        "match_ = re.match(r'!123', sample_string)\n",
        "print(match_)"
      ],
      "metadata": {
        "colab": {
          "base_uri": "https://localhost:8080/"
        },
        "id": "16scaRTiSZCJ",
        "outputId": "6b3647d5-2e61-4a98-c2b7-63eb3b6b5305"
      },
      "execution_count": 32,
      "outputs": [
        {
          "output_type": "stream",
          "name": "stdout",
          "text": [
            "<re.Match object; span=(0, 4), match='!123'>\n"
          ]
        }
      ]
    },
    {
      "cell_type": "code",
      "source": [
        "match1_ = re.match(r'456', sample_string)\n",
        "print(match1_)"
      ],
      "metadata": {
        "colab": {
          "base_uri": "https://localhost:8080/"
        },
        "id": "krnI8jJ3StRx",
        "outputId": "8169011c-404b-46c7-d1e5-06064e9c2148"
      },
      "execution_count": 33,
      "outputs": [
        {
          "output_type": "stream",
          "name": "stdout",
          "text": [
            "None\n"
          ]
        }
      ]
    },
    {
      "cell_type": "markdown",
      "source": [
        "#search method"
      ],
      "metadata": {
        "id": "oYvg47RCTBZC"
      }
    },
    {
      "cell_type": "code",
      "source": [
        "search_ = re.search(r'weird', sample_string)\n",
        "print(search_)"
      ],
      "metadata": {
        "colab": {
          "base_uri": "https://localhost:8080/"
        },
        "id": "VkDz-1nmSxmJ",
        "outputId": "a230330c-6da0-4a9e-d2c1-aee5bf952580"
      },
      "execution_count": 34,
      "outputs": [
        {
          "output_type": "stream",
          "name": "stdout",
          "text": [
            "<re.Match object; span=(28, 33), match='weird'>\n"
          ]
        }
      ]
    },
    {
      "cell_type": "code",
      "source": [
        "search1_ = re.search(r'weirdABC', sample_string)\n",
        "print(search1_)"
      ],
      "metadata": {
        "colab": {
          "base_uri": "https://localhost:8080/"
        },
        "id": "62FvdIemTRe-",
        "outputId": "45b48344-505c-41c2-ef17-e840feef5919"
      },
      "execution_count": 35,
      "outputs": [
        {
          "output_type": "stream",
          "name": "stdout",
          "text": [
            "None\n"
          ]
        }
      ]
    },
    {
      "cell_type": "markdown",
      "source": [
        "#Meta Charaters"
      ],
      "metadata": {
        "id": "SX9DliY8pN6T"
      }
    },
    {
      "cell_type": "code",
      "source": [
        "#1. . any character (except new line character)\n",
        "#2. ^ startswith \"^hello\"\n",
        "#3. $ endswith \"world$\"\n",
        "#4. * zero or more occurances\n",
        "#5. + one or more occurances\n",
        "#6. {} exactly specified no of occurances \"al{2}\"\n",
        "#7. [] A set of characters \"[a-m]\"\n",
        "#8. \\ Signals a special sequence (can also be used to escape special characters) \"\\d\"\n",
        "#9. | Either or \"falls|stays\"\n",
        "#10. ( ) Capture and group"
      ],
      "metadata": {
        "id": "AlAP79RMpnwY"
      },
      "execution_count": 22,
      "outputs": []
    },
    {
      "cell_type": "code",
      "source": [
        "pattern = re.compile(r\".\")\n",
        "matches = pattern.finditer(sample_string)\n",
        "for match in matches:\n",
        "  print(match.group(), end = \" \")"
      ],
      "metadata": {
        "colab": {
          "base_uri": "https://localhost:8080/"
        },
        "id": "qbkp1_zPp1hp",
        "outputId": "b91ab255-db2a-4c5f-f67d-d60edd463e05"
      },
      "execution_count": 36,
      "outputs": [
        {
          "output_type": "stream",
          "name": "stdout",
          "text": [
            "! 1 2 3 A B C d e . g 4 5 6 a b $ % ^ & * c 1 2 3 A B C w e i r d "
          ]
        }
      ]
    },
    {
      "cell_type": "code",
      "source": [
        "pattern = re.compile(r\"\\.\")\n",
        "matches = pattern.finditer(sample_string)\n",
        "for match in matches:\n",
        "  print(match)"
      ],
      "metadata": {
        "colab": {
          "base_uri": "https://localhost:8080/"
        },
        "id": "IT_8uyhnqJ1c",
        "outputId": "b982cdd4-7be8-4d36-cf20-a2e733a3f252"
      },
      "execution_count": 37,
      "outputs": [
        {
          "output_type": "stream",
          "name": "stdout",
          "text": [
            "<re.Match object; span=(9, 10), match='.'>\n"
          ]
        }
      ]
    },
    {
      "cell_type": "code",
      "source": [
        "#starts with\n",
        "pattern = re.compile(r\"^!123\")\n",
        "matches = pattern.finditer(sample_string)\n",
        "for match in matches:\n",
        "  print(match)"
      ],
      "metadata": {
        "colab": {
          "base_uri": "https://localhost:8080/"
        },
        "id": "Lqv6TBl8rQjk",
        "outputId": "d4d26dfe-07bf-4c55-a94f-0f742d78ed4a"
      },
      "execution_count": 42,
      "outputs": [
        {
          "output_type": "stream",
          "name": "stdout",
          "text": [
            "<re.Match object; span=(0, 4), match='!123'>\n"
          ]
        }
      ]
    },
    {
      "cell_type": "code",
      "source": [
        "#starts with\n",
        "pattern = re.compile(r\"^abc\")\n",
        "matches = pattern.finditer(sample_string)\n",
        "for match in matches:\n",
        "  print(match)"
      ],
      "metadata": {
        "id": "Hzq4t2ySrncV"
      },
      "execution_count": 43,
      "outputs": []
    },
    {
      "cell_type": "code",
      "source": [
        "#ends with\n",
        "pattern = re.compile(r\"weird$\")\n",
        "matches = pattern.finditer(sample_string)\n",
        "for match in matches:\n",
        "  print(match)"
      ],
      "metadata": {
        "colab": {
          "base_uri": "https://localhost:8080/"
        },
        "id": "rfgPHYRPrwvu",
        "outputId": "d80c1365-6eb5-4746-d432-bd1e9acf82a2"
      },
      "execution_count": 44,
      "outputs": [
        {
          "output_type": "stream",
          "name": "stdout",
          "text": [
            "<re.Match object; span=(28, 33), match='weird'>\n"
          ]
        }
      ]
    },
    {
      "cell_type": "code",
      "source": [
        "#ends with\n",
        "pattern = re.compile(r\"123$\")\n",
        "matches = pattern.finditer(sample_string)\n",
        "for match in matches:\n",
        "  print(match)"
      ],
      "metadata": {
        "id": "LjoYvH21r8fI"
      },
      "execution_count": 45,
      "outputs": []
    },
    {
      "cell_type": "markdown",
      "source": [
        "1. \\d :Matches any decimal digit; this is equivalent to the class [0-9].\n",
        "2. \\D : Matches any non-digit character; this is equivalent to the class [^0-9].\n",
        "3. \\s : Matches any whitespace character;\n",
        "4. \\S : Matches any non-whitespace character;\n",
        "5. \\w : Matches any alphanumeric (word) character; this is equivalent to the class [a-zA-Z0-9_].\n",
        "6. \\W : Matches any non-alphanumeric character; this is equivalent to the class [^a-zA-Z0-9_].\n",
        "7. \\b Returns a match where the specified characters are at the beginning or at the end of a word r\"\\bain\" r\"ain\\b\"\n",
        "8. \\B Returns a match where the specified characters are present, but NOT at the beginning (or at the end) of a word\n",
        "r\"\\Bain\" r\"ain\\B\"\n",
        "9. \\A Returns a match if the specified characters are at the beginning of the string \"\\AThe\"\n",
        "10. \\Z Returns a match if the specified characters are at the end of the string \"Spain\\Z\""
      ],
      "metadata": {
        "id": "Qdxc8CDHTSZv"
      }
    },
    {
      "cell_type": "code",
      "source": [
        "#\\d :Matches any decimal digit; this is equivalent to the class [0-9].\n",
        "sample_string1 ='!123ABCde.g456ab $%^&*c123ABC weird'\n",
        "\n",
        "pattern = re.compile(r\"\\d\")\n",
        "matches = pattern.finditer(sample_string1)\n",
        "for match in matches:\n",
        "  print(match)"
      ],
      "metadata": {
        "colab": {
          "base_uri": "https://localhost:8080/"
        },
        "id": "Td76ZWU_pMLH",
        "outputId": "d9ee319f-3fe7-4c47-eaf9-6b3850cd4c1c"
      },
      "execution_count": 48,
      "outputs": [
        {
          "output_type": "stream",
          "name": "stdout",
          "text": [
            "<re.Match object; span=(1, 2), match='1'>\n",
            "<re.Match object; span=(2, 3), match='2'>\n",
            "<re.Match object; span=(3, 4), match='3'>\n",
            "<re.Match object; span=(11, 12), match='4'>\n",
            "<re.Match object; span=(12, 13), match='5'>\n",
            "<re.Match object; span=(13, 14), match='6'>\n",
            "<re.Match object; span=(23, 24), match='1'>\n",
            "<re.Match object; span=(24, 25), match='2'>\n",
            "<re.Match object; span=(25, 26), match='3'>\n"
          ]
        }
      ]
    },
    {
      "cell_type": "code",
      "source": [
        "#\\D : Matches any non-digit character; this is equivalent to the class [^0-9].\n",
        "\n",
        "pattern = re.compile(r\"\\D\")\n",
        "matches = pattern.finditer(sample_string1)\n",
        "for match in matches:\n",
        "  print(match)"
      ],
      "metadata": {
        "colab": {
          "base_uri": "https://localhost:8080/"
        },
        "id": "o5C5cRwisV4Q",
        "outputId": "9c822fcb-76a5-4cf4-8d06-f2753d6616b7"
      },
      "execution_count": 49,
      "outputs": [
        {
          "output_type": "stream",
          "name": "stdout",
          "text": [
            "<re.Match object; span=(0, 1), match='!'>\n",
            "<re.Match object; span=(4, 5), match='A'>\n",
            "<re.Match object; span=(5, 6), match='B'>\n",
            "<re.Match object; span=(6, 7), match='C'>\n",
            "<re.Match object; span=(7, 8), match='d'>\n",
            "<re.Match object; span=(8, 9), match='e'>\n",
            "<re.Match object; span=(9, 10), match='.'>\n",
            "<re.Match object; span=(10, 11), match='g'>\n",
            "<re.Match object; span=(14, 15), match='a'>\n",
            "<re.Match object; span=(15, 16), match='b'>\n",
            "<re.Match object; span=(16, 17), match=' '>\n",
            "<re.Match object; span=(17, 18), match='$'>\n",
            "<re.Match object; span=(18, 19), match='%'>\n",
            "<re.Match object; span=(19, 20), match='^'>\n",
            "<re.Match object; span=(20, 21), match='&'>\n",
            "<re.Match object; span=(21, 22), match='*'>\n",
            "<re.Match object; span=(22, 23), match='c'>\n",
            "<re.Match object; span=(26, 27), match='A'>\n",
            "<re.Match object; span=(27, 28), match='B'>\n",
            "<re.Match object; span=(28, 29), match='C'>\n",
            "<re.Match object; span=(29, 30), match=' '>\n",
            "<re.Match object; span=(30, 31), match='w'>\n",
            "<re.Match object; span=(31, 32), match='e'>\n",
            "<re.Match object; span=(32, 33), match='i'>\n",
            "<re.Match object; span=(33, 34), match='r'>\n",
            "<re.Match object; span=(34, 35), match='d'>\n"
          ]
        }
      ]
    },
    {
      "cell_type": "code",
      "source": [
        "#\\s : Matches any whitespace character;\n",
        "pattern = re.compile(r\"\\s\")\n",
        "matches = pattern.finditer(sample_string1)\n",
        "for match in matches:\n",
        "  print(match)"
      ],
      "metadata": {
        "colab": {
          "base_uri": "https://localhost:8080/"
        },
        "id": "OX1VMZE7sxQ-",
        "outputId": "3e61c210-4225-4e04-bb57-e689b5b1fa2a"
      },
      "execution_count": 50,
      "outputs": [
        {
          "output_type": "stream",
          "name": "stdout",
          "text": [
            "<re.Match object; span=(16, 17), match=' '>\n",
            "<re.Match object; span=(29, 30), match=' '>\n"
          ]
        }
      ]
    },
    {
      "cell_type": "code",
      "source": [
        "#\\S : Matches any non-whitespace character;\n",
        "pattern = re.compile(r\"\\S\")\n",
        "matches = pattern.finditer(sample_string1)\n",
        "for match in matches:\n",
        "  print(match)"
      ],
      "metadata": {
        "colab": {
          "base_uri": "https://localhost:8080/"
        },
        "id": "6oH8GSUotIX0",
        "outputId": "92e50145-dfd7-473c-dcb2-5ad8bb733cbf"
      },
      "execution_count": 51,
      "outputs": [
        {
          "output_type": "stream",
          "name": "stdout",
          "text": [
            "<re.Match object; span=(0, 1), match='!'>\n",
            "<re.Match object; span=(1, 2), match='1'>\n",
            "<re.Match object; span=(2, 3), match='2'>\n",
            "<re.Match object; span=(3, 4), match='3'>\n",
            "<re.Match object; span=(4, 5), match='A'>\n",
            "<re.Match object; span=(5, 6), match='B'>\n",
            "<re.Match object; span=(6, 7), match='C'>\n",
            "<re.Match object; span=(7, 8), match='d'>\n",
            "<re.Match object; span=(8, 9), match='e'>\n",
            "<re.Match object; span=(9, 10), match='.'>\n",
            "<re.Match object; span=(10, 11), match='g'>\n",
            "<re.Match object; span=(11, 12), match='4'>\n",
            "<re.Match object; span=(12, 13), match='5'>\n",
            "<re.Match object; span=(13, 14), match='6'>\n",
            "<re.Match object; span=(14, 15), match='a'>\n",
            "<re.Match object; span=(15, 16), match='b'>\n",
            "<re.Match object; span=(17, 18), match='$'>\n",
            "<re.Match object; span=(18, 19), match='%'>\n",
            "<re.Match object; span=(19, 20), match='^'>\n",
            "<re.Match object; span=(20, 21), match='&'>\n",
            "<re.Match object; span=(21, 22), match='*'>\n",
            "<re.Match object; span=(22, 23), match='c'>\n",
            "<re.Match object; span=(23, 24), match='1'>\n",
            "<re.Match object; span=(24, 25), match='2'>\n",
            "<re.Match object; span=(25, 26), match='3'>\n",
            "<re.Match object; span=(26, 27), match='A'>\n",
            "<re.Match object; span=(27, 28), match='B'>\n",
            "<re.Match object; span=(28, 29), match='C'>\n",
            "<re.Match object; span=(30, 31), match='w'>\n",
            "<re.Match object; span=(31, 32), match='e'>\n",
            "<re.Match object; span=(32, 33), match='i'>\n",
            "<re.Match object; span=(33, 34), match='r'>\n",
            "<re.Match object; span=(34, 35), match='d'>\n"
          ]
        }
      ]
    },
    {
      "cell_type": "code",
      "source": [
        "#\\w : Matches any alphanumeric (word) character; this is equivalent to the class [a-zA-Z0-9_].\n",
        "pattern = re.compile(r\"\\w\")\n",
        "matches = pattern.finditer(sample_string1)\n",
        "for match in matches:\n",
        "  print(match)"
      ],
      "metadata": {
        "colab": {
          "base_uri": "https://localhost:8080/"
        },
        "id": "iWH24LFUtVUG",
        "outputId": "46943fcc-9b0f-42ed-848c-3dc86a842eda"
      },
      "execution_count": 52,
      "outputs": [
        {
          "output_type": "stream",
          "name": "stdout",
          "text": [
            "<re.Match object; span=(1, 2), match='1'>\n",
            "<re.Match object; span=(2, 3), match='2'>\n",
            "<re.Match object; span=(3, 4), match='3'>\n",
            "<re.Match object; span=(4, 5), match='A'>\n",
            "<re.Match object; span=(5, 6), match='B'>\n",
            "<re.Match object; span=(6, 7), match='C'>\n",
            "<re.Match object; span=(7, 8), match='d'>\n",
            "<re.Match object; span=(8, 9), match='e'>\n",
            "<re.Match object; span=(10, 11), match='g'>\n",
            "<re.Match object; span=(11, 12), match='4'>\n",
            "<re.Match object; span=(12, 13), match='5'>\n",
            "<re.Match object; span=(13, 14), match='6'>\n",
            "<re.Match object; span=(14, 15), match='a'>\n",
            "<re.Match object; span=(15, 16), match='b'>\n",
            "<re.Match object; span=(22, 23), match='c'>\n",
            "<re.Match object; span=(23, 24), match='1'>\n",
            "<re.Match object; span=(24, 25), match='2'>\n",
            "<re.Match object; span=(25, 26), match='3'>\n",
            "<re.Match object; span=(26, 27), match='A'>\n",
            "<re.Match object; span=(27, 28), match='B'>\n",
            "<re.Match object; span=(28, 29), match='C'>\n",
            "<re.Match object; span=(30, 31), match='w'>\n",
            "<re.Match object; span=(31, 32), match='e'>\n",
            "<re.Match object; span=(32, 33), match='i'>\n",
            "<re.Match object; span=(33, 34), match='r'>\n",
            "<re.Match object; span=(34, 35), match='d'>\n"
          ]
        }
      ]
    },
    {
      "cell_type": "code",
      "source": [
        "#\\W : Matches any non-alphanumeric character; this is equivalent to the class [^a-zA-Z0-9_].\n",
        "pattern = re.compile(r\"\\W\")\n",
        "matches = pattern.finditer(sample_string1)\n",
        "for match in matches:\n",
        "  print(match)"
      ],
      "metadata": {
        "colab": {
          "base_uri": "https://localhost:8080/"
        },
        "id": "6CP8_-VFtXON",
        "outputId": "7d5fa82c-021c-4e17-80d2-690e353223bb"
      },
      "execution_count": 53,
      "outputs": [
        {
          "output_type": "stream",
          "name": "stdout",
          "text": [
            "<re.Match object; span=(0, 1), match='!'>\n",
            "<re.Match object; span=(9, 10), match='.'>\n",
            "<re.Match object; span=(16, 17), match=' '>\n",
            "<re.Match object; span=(17, 18), match='$'>\n",
            "<re.Match object; span=(18, 19), match='%'>\n",
            "<re.Match object; span=(19, 20), match='^'>\n",
            "<re.Match object; span=(20, 21), match='&'>\n",
            "<re.Match object; span=(21, 22), match='*'>\n",
            "<re.Match object; span=(29, 30), match=' '>\n"
          ]
        }
      ]
    },
    {
      "cell_type": "code",
      "source": [
        "#\\b Returns a match where the specified characters are at the beginning or at the end of a word r\"\\bain\" r\"ain\\b\"\n",
        "pattern = re.compile(r\"\\bweird\")\n",
        "matches = pattern.finditer(sample_string1)\n",
        "for match in matches:\n",
        "  print(match)"
      ],
      "metadata": {
        "colab": {
          "base_uri": "https://localhost:8080/"
        },
        "id": "q58UoG--tYqJ",
        "outputId": "ecc40f48-b4ed-4d0c-dc1a-04f90c09dd37"
      },
      "execution_count": 55,
      "outputs": [
        {
          "output_type": "stream",
          "name": "stdout",
          "text": [
            "<re.Match object; span=(30, 35), match='weird'>\n"
          ]
        }
      ]
    },
    {
      "cell_type": "code",
      "source": [
        "#\\b Returns a match where the specified characters are at the beginning or at the end of a word r\"\\bain\" r\"ain\\b\"\n",
        "pattern = re.compile(r\"\\b123\")\n",
        "matches = pattern.finditer(sample_string1)\n",
        "for match in matches:\n",
        "  print(match)"
      ],
      "metadata": {
        "colab": {
          "base_uri": "https://localhost:8080/"
        },
        "id": "koTsRlmduJLc",
        "outputId": "3ea9fb2d-109d-4987-ed75-0992a6554e84"
      },
      "execution_count": 57,
      "outputs": [
        {
          "output_type": "stream",
          "name": "stdout",
          "text": [
            "<re.Match object; span=(1, 4), match='123'>\n"
          ]
        }
      ]
    },
    {
      "cell_type": "code",
      "source": [
        "#\\B Returns a match where the specified characters are present, but NOT at the beginning (or at the end) of a word r\"\\Bain\" r\"ain\\B\"\n",
        "pattern = re.compile(r\"\\B123\")\n",
        "matches = pattern.finditer(sample_string1)\n",
        "for match in matches:\n",
        "  print(match)"
      ],
      "metadata": {
        "colab": {
          "base_uri": "https://localhost:8080/"
        },
        "id": "ZZWcUzeMtZ89",
        "outputId": "d83f5d35-0066-47c8-86f3-4ecdb3dec345"
      },
      "execution_count": 56,
      "outputs": [
        {
          "output_type": "stream",
          "name": "stdout",
          "text": [
            "<re.Match object; span=(1, 4), match='123'>\n"
          ]
        }
      ]
    },
    {
      "cell_type": "code",
      "source": [
        "#\\A Returns a match if the specified characters are at the beginning of the string \"\\AThe\"\n",
        "pattern = re.compile(r\"\\A!123\")\n",
        "matches = pattern.finditer(sample_string1)\n",
        "for match in matches:\n",
        "  print(match)"
      ],
      "metadata": {
        "colab": {
          "base_uri": "https://localhost:8080/"
        },
        "id": "7vOKD4eHtbYH",
        "outputId": "dfdfcc28-a7d3-4809-d8b6-97659ffa510b"
      },
      "execution_count": 60,
      "outputs": [
        {
          "output_type": "stream",
          "name": "stdout",
          "text": [
            "<re.Match object; span=(0, 4), match='!123'>\n"
          ]
        }
      ]
    },
    {
      "cell_type": "code",
      "source": [
        "#\\A Returns a match if the specified characters are at the beginning of the string \"\\AThe\"\n",
        "pattern = re.compile(r\"\\AABC\")\n",
        "matches = pattern.finditer(sample_string1)\n",
        "for match in matches:\n",
        "  print(match)"
      ],
      "metadata": {
        "id": "j0BMCFOKu5zx"
      },
      "execution_count": 61,
      "outputs": []
    },
    {
      "cell_type": "code",
      "source": [
        "#\\Z Returns a match if the specified characters are at the end of the string \"Spain\\Z\"\n",
        "pattern = re.compile(r\"weird\\Z\")\n",
        "matches = pattern.finditer(sample_string1)\n",
        "for match in matches:\n",
        "  print(match)"
      ],
      "metadata": {
        "colab": {
          "base_uri": "https://localhost:8080/"
        },
        "id": "fe1kiwFVtck1",
        "outputId": "71792b1c-561b-4190-bbba-f813c411b775"
      },
      "execution_count": 62,
      "outputs": [
        {
          "output_type": "stream",
          "name": "stdout",
          "text": [
            "<re.Match object; span=(30, 35), match='weird'>\n"
          ]
        }
      ]
    },
    {
      "cell_type": "code",
      "source": [
        "#\\Z Returns a match if the specified characters are at the end of the string \"Spain\\Z\"\n",
        "pattern = re.compile(r\"123\\Z\")\n",
        "matches = pattern.finditer(sample_string1)\n",
        "for match in matches:\n",
        "  print(match)"
      ],
      "metadata": {
        "id": "i9jGtqsFvGpd"
      },
      "execution_count": 63,
      "outputs": []
    },
    {
      "cell_type": "markdown",
      "source": [
        "1. [arn] Returns a match where one of the specified characters (a, r, or n) are present\n",
        "2. [a-n] Returns a match for any lower case character, alphabetically between a and n\n",
        "3. [^arn] Returns a match for any character EXCEPT a, r, and n\n",
        "4. [0123] Returns a match where any of the specified digits (0, 1, 2, or 3) are present\n",
        "5. [0-9] Returns a match for any digit between 0 and 9\n",
        "6. 0-5 Returns a match for any two-digit numbers from 00 and 59\n",
        "7. [a-zA-Z] Returns a match for any character alphabetically between a and z, lower case OR upper case"
      ],
      "metadata": {
        "id": "-vDOLQfyuwwr"
      }
    },
    {
      "cell_type": "code",
      "source": [
        "sample_string2 = 'hello 123_1234567465!@#$%'\n",
        "print(sample_string2)"
      ],
      "metadata": {
        "colab": {
          "base_uri": "https://localhost:8080/"
        },
        "id": "mh8ilvSIuxi7",
        "outputId": "d3200e5f-d453-42b3-bbe0-511e48e21c08"
      },
      "execution_count": 64,
      "outputs": [
        {
          "output_type": "stream",
          "name": "stdout",
          "text": [
            "hello 123_1234567465!@#$%\n"
          ]
        }
      ]
    },
    {
      "cell_type": "code",
      "source": [
        "#[arn] Returns a match where one of the specified characters (a, r, or n) are present\n",
        "pattern = re.compile(r\"[lo]\")\n",
        "matches = pattern.finditer(sample_string2)\n",
        "for match in matches:\n",
        "  print(match)"
      ],
      "metadata": {
        "colab": {
          "base_uri": "https://localhost:8080/"
        },
        "id": "1oKk1Boxwa2g",
        "outputId": "bd58a0da-7e99-41a5-e383-de20c603e46c"
      },
      "execution_count": 65,
      "outputs": [
        {
          "output_type": "stream",
          "name": "stdout",
          "text": [
            "<re.Match object; span=(2, 3), match='l'>\n",
            "<re.Match object; span=(3, 4), match='l'>\n",
            "<re.Match object; span=(4, 5), match='o'>\n"
          ]
        }
      ]
    },
    {
      "cell_type": "code",
      "source": [
        "#[a-n] Returns a match for any lower case character, alphabetically between a and n\n",
        "pattern = re.compile(r\"[a-z]\")\n",
        "matches = pattern.finditer(sample_string2)\n",
        "for match in matches:\n",
        "  print(match)"
      ],
      "metadata": {
        "colab": {
          "base_uri": "https://localhost:8080/"
        },
        "id": "Ys0JtcjEwkZT",
        "outputId": "aee8ef99-c23d-4134-f51b-c0e6009bda9c"
      },
      "execution_count": 66,
      "outputs": [
        {
          "output_type": "stream",
          "name": "stdout",
          "text": [
            "<re.Match object; span=(0, 1), match='h'>\n",
            "<re.Match object; span=(1, 2), match='e'>\n",
            "<re.Match object; span=(2, 3), match='l'>\n",
            "<re.Match object; span=(3, 4), match='l'>\n",
            "<re.Match object; span=(4, 5), match='o'>\n"
          ]
        }
      ]
    },
    {
      "cell_type": "code",
      "source": [
        "#[a-n] Returns a match for any lower case character, alphabetically between a and n\n",
        "pattern = re.compile(r\"[0-9]\")\n",
        "matches = pattern.finditer(sample_string2)\n",
        "for match in matches:\n",
        "  print(match)"
      ],
      "metadata": {
        "colab": {
          "base_uri": "https://localhost:8080/"
        },
        "id": "zYyXfo_OxB_m",
        "outputId": "c41a49f4-d26d-42c6-ac41-1c86e3fce119"
      },
      "execution_count": 67,
      "outputs": [
        {
          "output_type": "stream",
          "name": "stdout",
          "text": [
            "<re.Match object; span=(6, 7), match='1'>\n",
            "<re.Match object; span=(7, 8), match='2'>\n",
            "<re.Match object; span=(8, 9), match='3'>\n",
            "<re.Match object; span=(10, 11), match='1'>\n",
            "<re.Match object; span=(11, 12), match='2'>\n",
            "<re.Match object; span=(12, 13), match='3'>\n",
            "<re.Match object; span=(13, 14), match='4'>\n",
            "<re.Match object; span=(14, 15), match='5'>\n",
            "<re.Match object; span=(15, 16), match='6'>\n",
            "<re.Match object; span=(16, 17), match='7'>\n",
            "<re.Match object; span=(17, 18), match='4'>\n",
            "<re.Match object; span=(18, 19), match='6'>\n",
            "<re.Match object; span=(19, 20), match='5'>\n"
          ]
        }
      ]
    },
    {
      "cell_type": "code",
      "source": [
        "#[a-n] Returns a match for any lower case character, alphabetically between a and n\n",
        "pattern = re.compile(r\"[0-9!]\")\n",
        "matches = pattern.finditer(sample_string2)\n",
        "for match in matches:\n",
        "  print(match)"
      ],
      "metadata": {
        "colab": {
          "base_uri": "https://localhost:8080/"
        },
        "id": "eP5b-UPWxpNY",
        "outputId": "b0d5baa7-80ef-4892-d2d8-0a86d91221d7"
      },
      "execution_count": 68,
      "outputs": [
        {
          "output_type": "stream",
          "name": "stdout",
          "text": [
            "<re.Match object; span=(6, 7), match='1'>\n",
            "<re.Match object; span=(7, 8), match='2'>\n",
            "<re.Match object; span=(8, 9), match='3'>\n",
            "<re.Match object; span=(10, 11), match='1'>\n",
            "<re.Match object; span=(11, 12), match='2'>\n",
            "<re.Match object; span=(12, 13), match='3'>\n",
            "<re.Match object; span=(13, 14), match='4'>\n",
            "<re.Match object; span=(14, 15), match='5'>\n",
            "<re.Match object; span=(15, 16), match='6'>\n",
            "<re.Match object; span=(16, 17), match='7'>\n",
            "<re.Match object; span=(17, 18), match='4'>\n",
            "<re.Match object; span=(18, 19), match='6'>\n",
            "<re.Match object; span=(19, 20), match='5'>\n",
            "<re.Match object; span=(20, 21), match='!'>\n"
          ]
        }
      ]
    },
    {
      "cell_type": "code",
      "source": [
        "#[^arn] Returns a match for any character EXCEPT a, r, and n\n",
        "pattern = re.compile(r\"[^a-z]\")\n",
        "matches = pattern.finditer(sample_string2)\n",
        "for match in matches:\n",
        "  print(match)"
      ],
      "metadata": {
        "colab": {
          "base_uri": "https://localhost:8080/"
        },
        "id": "NV5mfqsUwvH5",
        "outputId": "ec7a33d1-8ce8-40e6-ea94-2c6c6b37f65c"
      },
      "execution_count": 69,
      "outputs": [
        {
          "output_type": "stream",
          "name": "stdout",
          "text": [
            "<re.Match object; span=(5, 6), match=' '>\n",
            "<re.Match object; span=(6, 7), match='1'>\n",
            "<re.Match object; span=(7, 8), match='2'>\n",
            "<re.Match object; span=(8, 9), match='3'>\n",
            "<re.Match object; span=(9, 10), match='_'>\n",
            "<re.Match object; span=(10, 11), match='1'>\n",
            "<re.Match object; span=(11, 12), match='2'>\n",
            "<re.Match object; span=(12, 13), match='3'>\n",
            "<re.Match object; span=(13, 14), match='4'>\n",
            "<re.Match object; span=(14, 15), match='5'>\n",
            "<re.Match object; span=(15, 16), match='6'>\n",
            "<re.Match object; span=(16, 17), match='7'>\n",
            "<re.Match object; span=(17, 18), match='4'>\n",
            "<re.Match object; span=(18, 19), match='6'>\n",
            "<re.Match object; span=(19, 20), match='5'>\n",
            "<re.Match object; span=(20, 21), match='!'>\n",
            "<re.Match object; span=(21, 22), match='@'>\n",
            "<re.Match object; span=(22, 23), match='#'>\n",
            "<re.Match object; span=(23, 24), match='$'>\n",
            "<re.Match object; span=(24, 25), match='%'>\n"
          ]
        }
      ]
    },
    {
      "cell_type": "code",
      "source": [
        "#[0123] Returns a match where any of the specified digits (0, 1, 2, or 3) are present\n",
        "pattern = re.compile(r\"[0123]\")\n",
        "matches = pattern.finditer(sample_string2)\n",
        "for match in matches:\n",
        "  print(match)"
      ],
      "metadata": {
        "colab": {
          "base_uri": "https://localhost:8080/"
        },
        "id": "Z6_NIPT3wvK5",
        "outputId": "3092fec4-3096-49bf-9d97-c8bb198fd5c1"
      },
      "execution_count": 70,
      "outputs": [
        {
          "output_type": "stream",
          "name": "stdout",
          "text": [
            "<re.Match object; span=(6, 7), match='1'>\n",
            "<re.Match object; span=(7, 8), match='2'>\n",
            "<re.Match object; span=(8, 9), match='3'>\n",
            "<re.Match object; span=(10, 11), match='1'>\n",
            "<re.Match object; span=(11, 12), match='2'>\n",
            "<re.Match object; span=(12, 13), match='3'>\n"
          ]
        }
      ]
    },
    {
      "cell_type": "code",
      "source": [
        "#[0-9] Returns a match for any digit between 0 and 9\n",
        "pattern = re.compile(r\"[0-9]\")\n",
        "matches = pattern.finditer(sample_string2)\n",
        "for match in matches:\n",
        "  print(match)"
      ],
      "metadata": {
        "colab": {
          "base_uri": "https://localhost:8080/"
        },
        "id": "EtOWSd2Mwywp",
        "outputId": "ffb04f0d-f80b-49ff-d2ad-4e12b59831c4"
      },
      "execution_count": 71,
      "outputs": [
        {
          "output_type": "stream",
          "name": "stdout",
          "text": [
            "<re.Match object; span=(6, 7), match='1'>\n",
            "<re.Match object; span=(7, 8), match='2'>\n",
            "<re.Match object; span=(8, 9), match='3'>\n",
            "<re.Match object; span=(10, 11), match='1'>\n",
            "<re.Match object; span=(11, 12), match='2'>\n",
            "<re.Match object; span=(12, 13), match='3'>\n",
            "<re.Match object; span=(13, 14), match='4'>\n",
            "<re.Match object; span=(14, 15), match='5'>\n",
            "<re.Match object; span=(15, 16), match='6'>\n",
            "<re.Match object; span=(16, 17), match='7'>\n",
            "<re.Match object; span=(17, 18), match='4'>\n",
            "<re.Match object; span=(18, 19), match='6'>\n",
            "<re.Match object; span=(19, 20), match='5'>\n"
          ]
        }
      ]
    },
    {
      "cell_type": "code",
      "source": [
        "#[0-9] Returns a match for any digit between 0 and 9\n",
        "pattern = re.compile(r\"[a-zA-Z0-9]\")\n",
        "matches = pattern.finditer(sample_string2)\n",
        "for match in matches:\n",
        "  print(match)"
      ],
      "metadata": {
        "colab": {
          "base_uri": "https://localhost:8080/"
        },
        "id": "jpc_t_HLzePq",
        "outputId": "5b04b332-6cbd-4dcb-9911-6af0303d147d"
      },
      "execution_count": 72,
      "outputs": [
        {
          "output_type": "stream",
          "name": "stdout",
          "text": [
            "<re.Match object; span=(0, 1), match='h'>\n",
            "<re.Match object; span=(1, 2), match='e'>\n",
            "<re.Match object; span=(2, 3), match='l'>\n",
            "<re.Match object; span=(3, 4), match='l'>\n",
            "<re.Match object; span=(4, 5), match='o'>\n",
            "<re.Match object; span=(6, 7), match='1'>\n",
            "<re.Match object; span=(7, 8), match='2'>\n",
            "<re.Match object; span=(8, 9), match='3'>\n",
            "<re.Match object; span=(10, 11), match='1'>\n",
            "<re.Match object; span=(11, 12), match='2'>\n",
            "<re.Match object; span=(12, 13), match='3'>\n",
            "<re.Match object; span=(13, 14), match='4'>\n",
            "<re.Match object; span=(14, 15), match='5'>\n",
            "<re.Match object; span=(15, 16), match='6'>\n",
            "<re.Match object; span=(16, 17), match='7'>\n",
            "<re.Match object; span=(17, 18), match='4'>\n",
            "<re.Match object; span=(18, 19), match='6'>\n",
            "<re.Match object; span=(19, 20), match='5'>\n"
          ]
        }
      ]
    },
    {
      "cell_type": "code",
      "source": [
        "#1. * : 0 or more\n",
        "#2. + : 1 or more\n",
        "#3. ? : 0 or 1, used when a character can be optional\n",
        "#4. {4} : exact number\n",
        "#5. {4,6} : range numbers (min, max)"
      ],
      "metadata": {
        "id": "8xxPuRetwvSm"
      },
      "execution_count": 73,
      "outputs": []
    },
    {
      "cell_type": "code",
      "source": [
        "#* : 0 or more\n",
        "pattern = re.compile(r\"\\d*\")\n",
        "matches = pattern.finditer(sample_string2)\n",
        "for match in matches:\n",
        "  print(match)"
      ],
      "metadata": {
        "colab": {
          "base_uri": "https://localhost:8080/"
        },
        "id": "vgyv9MQPzuEJ",
        "outputId": "b9229a39-dbad-49d8-fb19-8a9757ae6cf9"
      },
      "execution_count": 74,
      "outputs": [
        {
          "output_type": "stream",
          "name": "stdout",
          "text": [
            "<re.Match object; span=(0, 0), match=''>\n",
            "<re.Match object; span=(1, 1), match=''>\n",
            "<re.Match object; span=(2, 2), match=''>\n",
            "<re.Match object; span=(3, 3), match=''>\n",
            "<re.Match object; span=(4, 4), match=''>\n",
            "<re.Match object; span=(5, 5), match=''>\n",
            "<re.Match object; span=(6, 9), match='123'>\n",
            "<re.Match object; span=(9, 9), match=''>\n",
            "<re.Match object; span=(10, 20), match='1234567465'>\n",
            "<re.Match object; span=(20, 20), match=''>\n",
            "<re.Match object; span=(21, 21), match=''>\n",
            "<re.Match object; span=(22, 22), match=''>\n",
            "<re.Match object; span=(23, 23), match=''>\n",
            "<re.Match object; span=(24, 24), match=''>\n",
            "<re.Match object; span=(25, 25), match=''>\n"
          ]
        }
      ]
    },
    {
      "cell_type": "code",
      "source": [
        "#2. + : 1 or more\n",
        "pattern = re.compile(r\"\\d+\")\n",
        "matches = pattern.finditer(sample_string2)\n",
        "for match in matches:\n",
        "  print(match)"
      ],
      "metadata": {
        "colab": {
          "base_uri": "https://localhost:8080/"
        },
        "id": "5lqcR8qYz5p9",
        "outputId": "38dff343-fb25-484a-e4e7-1c9f8f1ad51d"
      },
      "execution_count": 75,
      "outputs": [
        {
          "output_type": "stream",
          "name": "stdout",
          "text": [
            "<re.Match object; span=(6, 9), match='123'>\n",
            "<re.Match object; span=(10, 20), match='1234567465'>\n"
          ]
        }
      ]
    },
    {
      "cell_type": "code",
      "source": [
        "#3. ? : 0 or 1, used when a character can be optional\n",
        "pattern = re.compile(r\"\\d?\")\n",
        "matches = pattern.finditer(sample_string2)\n",
        "for match in matches:\n",
        "  print(match)"
      ],
      "metadata": {
        "colab": {
          "base_uri": "https://localhost:8080/"
        },
        "id": "o3skTCx80Ib-",
        "outputId": "27463b0e-cb6a-4860-ded5-39434fb2adc8"
      },
      "execution_count": 76,
      "outputs": [
        {
          "output_type": "stream",
          "name": "stdout",
          "text": [
            "<re.Match object; span=(0, 0), match=''>\n",
            "<re.Match object; span=(1, 1), match=''>\n",
            "<re.Match object; span=(2, 2), match=''>\n",
            "<re.Match object; span=(3, 3), match=''>\n",
            "<re.Match object; span=(4, 4), match=''>\n",
            "<re.Match object; span=(5, 5), match=''>\n",
            "<re.Match object; span=(6, 7), match='1'>\n",
            "<re.Match object; span=(7, 8), match='2'>\n",
            "<re.Match object; span=(8, 9), match='3'>\n",
            "<re.Match object; span=(9, 9), match=''>\n",
            "<re.Match object; span=(10, 11), match='1'>\n",
            "<re.Match object; span=(11, 12), match='2'>\n",
            "<re.Match object; span=(12, 13), match='3'>\n",
            "<re.Match object; span=(13, 14), match='4'>\n",
            "<re.Match object; span=(14, 15), match='5'>\n",
            "<re.Match object; span=(15, 16), match='6'>\n",
            "<re.Match object; span=(16, 17), match='7'>\n",
            "<re.Match object; span=(17, 18), match='4'>\n",
            "<re.Match object; span=(18, 19), match='6'>\n",
            "<re.Match object; span=(19, 20), match='5'>\n",
            "<re.Match object; span=(20, 20), match=''>\n",
            "<re.Match object; span=(21, 21), match=''>\n",
            "<re.Match object; span=(22, 22), match=''>\n",
            "<re.Match object; span=(23, 23), match=''>\n",
            "<re.Match object; span=(24, 24), match=''>\n",
            "<re.Match object; span=(25, 25), match=''>\n"
          ]
        }
      ]
    },
    {
      "cell_type": "code",
      "source": [
        "pattern = re.compile(r\"_?\\d\")\n",
        "matches = pattern.finditer('hello123')\n",
        "for match in matches:\n",
        "  print(match)"
      ],
      "metadata": {
        "colab": {
          "base_uri": "https://localhost:8080/"
        },
        "id": "G1VoGygs0KJX",
        "outputId": "13df9404-169c-494e-fd2e-581c6dc679b1"
      },
      "execution_count": 77,
      "outputs": [
        {
          "output_type": "stream",
          "name": "stdout",
          "text": [
            "<re.Match object; span=(5, 6), match='1'>\n",
            "<re.Match object; span=(6, 7), match='2'>\n",
            "<re.Match object; span=(7, 8), match='3'>\n"
          ]
        }
      ]
    },
    {
      "cell_type": "code",
      "source": [
        "pattern = re.compile(r\"\\d{3}\")\n",
        "matches = pattern.finditer('hello123')\n",
        "for match in matches:\n",
        "  print(match)"
      ],
      "metadata": {
        "colab": {
          "base_uri": "https://localhost:8080/"
        },
        "id": "AcR64PMm0Lip",
        "outputId": "38712cf0-5352-4e8d-9b96-f7df265b9ac2"
      },
      "execution_count": 78,
      "outputs": [
        {
          "output_type": "stream",
          "name": "stdout",
          "text": [
            "<re.Match object; span=(5, 8), match='123'>\n"
          ]
        }
      ]
    },
    {
      "cell_type": "code",
      "source": [
        "pattern = re.compile(r\"\\d{2}\")\n",
        "matches = pattern.finditer('hello123')\n",
        "for match in matches:\n",
        "  print(match)"
      ],
      "metadata": {
        "colab": {
          "base_uri": "https://localhost:8080/"
        },
        "id": "e_LHQyBl0lPM",
        "outputId": "b6bc1e8e-e4c6-4d9a-b647-d33529fbc2f7"
      },
      "execution_count": 79,
      "outputs": [
        {
          "output_type": "stream",
          "name": "stdout",
          "text": [
            "<re.Match object; span=(5, 7), match='12'>\n"
          ]
        }
      ]
    },
    {
      "cell_type": "code",
      "source": [
        "pattern = re.compile(r\"\\d{4}\")\n",
        "matches = pattern.finditer('hello123')\n",
        "for match in matches:\n",
        "  print(match)"
      ],
      "metadata": {
        "id": "7lFao5210p4H"
      },
      "execution_count": 80,
      "outputs": []
    },
    {
      "cell_type": "code",
      "source": [
        "pattern = re.compile(r\"\\d{1,3}\")\n",
        "matches = pattern.finditer('hello123')\n",
        "for match in matches:\n",
        "  print(match)"
      ],
      "metadata": {
        "colab": {
          "base_uri": "https://localhost:8080/"
        },
        "id": "5sQdFLsU0tcs",
        "outputId": "d395465d-a4fc-48b4-c2f7-4853d630d340"
      },
      "execution_count": 81,
      "outputs": [
        {
          "output_type": "stream",
          "name": "stdout",
          "text": [
            "<re.Match object; span=(5, 8), match='123'>\n"
          ]
        }
      ]
    },
    {
      "cell_type": "code",
      "source": [],
      "metadata": {
        "id": "JkO3r1nn0xe9"
      },
      "execution_count": null,
      "outputs": []
    }
  ]
}