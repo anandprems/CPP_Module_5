{
  "nbformat": 4,
  "nbformat_minor": 0,
  "metadata": {
    "colab": {
      "provenance": []
    },
    "kernelspec": {
      "name": "python3",
      "display_name": "Python 3"
    },
    "language_info": {
      "name": "python"
    }
  },
  "cells": [
    {
      "cell_type": "markdown",
      "source": [
        "1. Create a string made of the first, middle and last character, given str1 = 'James'. Output = Jms\n",
        "2. Write a program to create a new string made of the middle three characters of an input string, given str2 = 'JhonDipPeta', str3 = 'JaSonAy', Output = Dip & Son\n",
        "3. Given two strings, s1 and s2. Write a program to create a new string s3 by appending s2 in the middle of s1, s1= 'Ault', s2 = \"Kelly\", Output= AuKellylt\n",
        "4. Given two strings, s1 and s2, write a program to return a new string made of s1 and s2’s first, middle, and last characters.s1 = \"America\"\n",
        "s2 = \"Japan\", Output:AJrpan\n",
        "5. Given string contains a combination of the lower and upper case letters. Write a program to arrange the characters of a string so that all lowercase letters should come first.str1 = PyNaTive, output= yaivePNT\n",
        "6. Count all letters, digits, and special symbols from a given string, str1 = \"P@#yn26at^&i5ve\", output= Chars = 8, Digits = 3, Symbol = 4\n",
        "7. Given two strings, s1 and s2. Write a program to create a new string s3 made of the first char of s1, then the last char of s2, Next, the second char of s1 and second last char of s2, and so on. Any leftover chars go at the end of the result.s1 = \"Abc\", s2 = \"Xyz\", Output=AzbycX\n",
        "8. Write a program to check if two strings are balanced. For example, strings s1 and s2 are balanced if all the characters in the s1 are present in s2. The character’s position doesn’t matter.s1 = \"Yn\"\n",
        "s2 = \"PYnative\" Output =True, s1 = \"Ynf\", s2 = \"PYnative\", Output = False\n",
        "9. Write a program to find all occurrences of “USA” in a given string ignoring the case.str1 = \"Welcome to USA. usa awesome, isn't it?\"\n",
        "Output = The USA count is: 2\n",
        "10. Given a string s1, write a program to return the sum and average of the digits that appear in the string, ignoring all other characters.str1 = \"PYnative29@#8496\", Output: Sum is: 38 Average is  6.333333333333333\n",
        "11. Write a program to count occurrences of all characters within a string, str1 = \"Apple\", output={'A': 1, 'p': 2, 'l': 1, 'e': 1}\n",
        "12. Reverse a given string, str1 = \"PYnative\", Output=evitanYP\n",
        "13. Write a program to find the last position of a substring “Emma” in a given string.str1 = \"Emma is a data scientist who knows Python. Emma works at google.\", output= Last occurrence of Emma starts at index 43\n",
        "14. Write a program to split a given string on hyphens and display each substring, str1 = Emma-is-a-data-scientist, Output: Displaying each substring\n",
        "Emma\n",
        "is\n",
        "a\n",
        "data\n",
        "scientist\n",
        "15. Remove empty strings from a list of strings,str_list = [\"Emma\", \"Jon\", \"\", \"Kelly\", None, \"Eric\", \"\"], output=Original list of sting\n",
        "['Emma', 'Jon', '', 'Kelly', None, 'Eric', ''], After removing empty strings, ['Emma', 'Jon', 'Kelly', 'Eric']\n",
        "16. Remove special symbols / punctuation from a string, str1 = \"/*Jon is @developer & musician\", output=\"Jon is developer musician\"\n",
        "17. Removal all characters from a string except integers, str1 = 'I am 25 years and 10 months old', output= 2510\n",
        "18. Write a program to find words with both alphabets and numbers from an input string.str1 = \"Emma25 is Data scientist50 and AI Expert\"\n",
        "output= Emma25\n",
        "scientist50\n",
        "19. Replace each special symbol with # in the following string, str1 = '/*Jon is @developer & musician!!', output=##Jon is #developer # musician##\n",
        "\n",
        "\n",
        "\n",
        "\n",
        "\n",
        "\n",
        "\n",
        "\n",
        "\n",
        "\n",
        "\n",
        "\n",
        "\n",
        "\n",
        "\n",
        "\n",
        "\n",
        "\n"
      ],
      "metadata": {
        "id": "cTdsH7esZg_5"
      }
    },
    {
      "cell_type": "code",
      "source": [],
      "metadata": {
        "id": "VtsDKRP8cjW1"
      },
      "execution_count": null,
      "outputs": []
    }
  ]
}